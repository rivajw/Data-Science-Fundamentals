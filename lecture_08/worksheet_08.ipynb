{
 "cells": [
  {
   "attachments": {},
   "cell_type": "markdown",
   "metadata": {},
   "source": [
    "# Worksheet 08\n",
    "\n",
    "Name:  Jiawei Sun\n",
    "\n",
    "UID: U81507478\n",
    "\n",
    "### Topics\n",
    "\n",
    "- Soft Clustering\n",
    "- Clustering Aggregation\n",
    "\n",
    "### Probability Review\n",
    "\n",
    "Read through [the following](https://medium.com/@gallettilance/overview-of-probability-3272b72c82c8)\n",
    "\n",
    "### Soft Clustering\n",
    "\n",
    "We generate 10 data points that come from a normal distribution with mean 5 and variance 1."
   ]
  },
  {
   "cell_type": "code",
   "execution_count": 72,
   "metadata": {},
   "outputs": [
    {
     "name": "stdout",
     "output_type": "stream",
     "text": [
      "[5.065215084777658, 4.938873256251253, 4.591250820623465, 4.855201149652522, 6.688249872356684, 4.9717923810043905, 3.2733204449546567, 5.126483315605508, 3.31614537003014, 6.722984119137449]\n"
     ]
    }
   ],
   "source": [
    "import random\n",
    "import numpy as np\n",
    "from sklearn.cluster import KMeans\n",
    "\n",
    "mean = 5\n",
    "stdev = 1\n",
    "\n",
    "c1 = np.random.normal(mean, stdev, 10).tolist()\n",
    "print(c1)"
   ]
  },
  {
   "cell_type": "markdown",
   "metadata": {},
   "source": [
    "a) Generate 10 more data points, this time coming from a normal distribution with mean 8 and variance 1."
   ]
  },
  {
   "cell_type": "code",
   "execution_count": 73,
   "metadata": {},
   "outputs": [
    {
     "name": "stdout",
     "output_type": "stream",
     "text": [
      "[8.278718939238741, 6.766304435540415, 9.806787310988987, 9.089345383023428, 9.421823626972738, 8.064721352700822, 7.38388685353142, 6.019217797233448, 7.187936557459981, 7.794441699191401]\n"
     ]
    }
   ],
   "source": [
    "c2 = np.random.normal( 8 , 1 , 10 ).tolist()\n",
    "print(c2)"
   ]
  },
  {
   "cell_type": "markdown",
   "metadata": {},
   "source": [
    "b) Flip a fair coin 10 times. If the coin lands on H, then pick the last data point of `c1` and remove it from `c1`, if T then pick the last data point from `c2` and remove it from `c2`. Add these 10 points to a list called `data`."
   ]
  },
  {
   "cell_type": "code",
   "execution_count": 74,
   "metadata": {},
   "outputs": [
    {
     "name": "stdout",
     "output_type": "stream",
     "text": [
      "[7.794441699191401, 6.722984119137449, 7.187936557459981, 6.019217797233448, 7.38388685353142, 3.31614537003014, 8.064721352700822, 5.126483315605508, 3.2733204449546567, 9.421823626972738]\n"
     ]
    }
   ],
   "source": [
    "data = []\n",
    "for i in range(10):\n",
    "    # flip coin\n",
    "    coin_output = random.choice([0, 1])\n",
    "    if coin_output == 0:\n",
    "        p1 = c1.pop()\n",
    "        data.append(p1)\n",
    "    else:\n",
    "        p2 = c2.pop()\n",
    "        data.append(p2)\n",
    "print(data)"
   ]
  },
  {
   "cell_type": "markdown",
   "metadata": {},
   "source": [
    "c) This `data` is a Gaussian Mixture Distribution with 2 mixture components. Over the next few questions we will walk through the GMM algorithm to see if we can uncover the parameters we used to generate this data. First, please list all these parameters of the GMM that created `data` and the values we know they have."
   ]
  },
  {
   "cell_type": "markdown",
   "metadata": {},
   "source": [
    "- Mean, variance, and probability for every species."
   ]
  },
  {
   "cell_type": "markdown",
   "metadata": {},
   "source": [
    "d) Let's assume there are two mixture components (note: we could plot the data and make the observation that there are two clusters). The EM algorithm asks us to start with a random `mean_j`, `variance_j`, `P(C_j)` for each component j. One method we could use to find sensible values for these is to apply K means with k=2 here.\n",
    "\n",
    "1. the centroids would be the estimates of the `mean_j`\n",
    "2. the intra-cluster variance could be the estimate of `variance_j`\n",
    "3. the proportion of points in each cluster could be the estimate of `P(C_j)`\n",
    "\n",
    "Go through this process and list the parameter estimates it gives. Are they close or far from the true values?"
   ]
  },
  {
   "cell_type": "code",
   "execution_count": 75,
   "metadata": {},
   "outputs": [
    {
     "name": "stdout",
     "output_type": "stream",
     "text": [
      "[3.31614537003014, 5.126483315605508, 3.2733204449546567]\n",
      "[7.794441699191401, 6.722984119137449, 7.187936557459981, 6.019217797233448, 7.38388685353142, 8.064721352700822, 9.421823626972738]\n",
      "P(C_1) = 0.3,  P(C_2) = 0.7\n",
      "mean_1 = 3.905316376863435,  mean_2 = 7.5135731437467514\n",
      "var_1 = 0.7459300085062969,  var_2 = 1.0007225754409936\n"
     ]
    },
    {
     "name": "stderr",
     "output_type": "stream",
     "text": [
      "/Users/apple/Library/Python/3.11/lib/python/site-packages/sklearn/cluster/_kmeans.py:1416: FutureWarning: The default value of `n_init` will change from 10 to 'auto' in 1.4. Set the value of `n_init` explicitly to suppress the warning\n",
      "  super()._check_params_vs_input(X, default_n_init=10)\n"
     ]
    }
   ],
   "source": [
    "kmeans = KMeans(2, init='k-means++').fit(X=np.array(data).reshape(-1, 1))\n",
    "\n",
    "c1 = [x[0] for x in filter(lambda x: x[1] == 0, zip(data, kmeans.labels_))]\n",
    "print(c1)\n",
    "c2 = [x[0] for x in filter(lambda x: x[1] == 1, zip(data, kmeans.labels_))]\n",
    "print(c2)\n",
    "\n",
    "prob_c = [ len(c1) / (len(c1) + len(c2)) , len(c2) / (len(c1) + len(c2)) ]\n",
    "mean = [ sum(c1)/len(c1) , sum(c2)/len(c2) ]\n",
    "var = [ sum(map(lambda x : (x - mean[0])**2, c1)) / len(c1) , sum(map(lambda x : (x - mean[1])**2, c2)) / len(c2) ]\n",
    "\n",
    "print(\"P(C_1) = \" + str(prob_c[0]) + \",  P(C_2) = \" + str(prob_c[1]))\n",
    "print(\"mean_1 = \" + str(mean[0]) + \",  mean_2 = \" + str(mean[1]))\n",
    "print(\"var_1 = \" + str(var[0]) + \",  var_2 = \" + str(var[1]))"
   ]
  },
  {
   "cell_type": "markdown",
   "metadata": {},
   "source": [
    "e) For each data point, compute `P(C_j | X_i)`. Comment on which cluster you think each point belongs to based on the estimated probabilities. How does that compare to the truth?"
   ]
  },
  {
   "cell_type": "code",
   "execution_count": 76,
   "metadata": {},
   "outputs": [
    {
     "name": "stdout",
     "output_type": "stream",
     "text": [
      "point =  7.794441699191401\n",
      "probability of observing that point if it came from cluster 0 =  6.688952255557601e-07\n",
      "probability of observing that point if it came from cluster 1 =  0.3832577727677807\n",
      "point =  6.722984119137449\n",
      "probability of observing that point if it came from cluster 0 =  0.00042639324852414116\n",
      "probability of observing that point if it came from cluster 1 =  0.29178874703224283\n",
      "point =  7.187936557459981\n",
      "probability of observing that point if it came from cluster 0 =  3.3334067891754796e-05\n",
      "probability of observing that point if it came from cluster 1 =  0.37809722685539\n",
      "point =  6.019217797233448\n",
      "probability of observing that point if it came from cluster 0 =  0.009644677915340875\n",
      "probability of observing that point if it came from cluster 1 =  0.13073303131753197\n",
      "point =  7.38388685353142\n",
      "probability of observing that point if it came from cluster 0 =  1.0135486499916882e-05\n",
      "probability of observing that point if it came from cluster 1 =  0.3953206879862385\n",
      "point =  3.31614537003014\n",
      "probability of observing that point if it came from cluster 0 =  0.3915098430723711\n",
      "probability of observing that point if it came from cluster 1 =  6.030207959294603e-05\n",
      "point =  8.064721352700822\n",
      "probability of observing that point if it came from cluster 0 =  9.471012353315719e-08\n",
      "probability of observing that point if it came from cluster 1 =  0.34255475452071593\n",
      "point =  5.126483315605508\n",
      "probability of observing that point if it came from cluster 0 =  0.14003343903706975\n",
      "probability of observing that point if it came from cluster 1 =  0.023175795274265533\n",
      "point =  3.2733204449546567\n",
      "probability of observing that point if it came from cluster 0 =  0.3735367238889683\n",
      "probability of observing that point if it came from cluster 1 =  5.034784855404252e-05\n",
      "point =  9.421823626972738\n",
      "probability of observing that point if it came from cluster 0 =  7.108283424288576e-13\n",
      "probability of observing that point if it came from cluster 1 =  0.06471628237191837\n",
      "7.794441699191401\n",
      "Probability of coming from C_1 = 7.479800497921189e-07\n",
      "Probability of coming from C_2 = 0.9999992520199502\n",
      "\n",
      "6.722984119137449\n",
      "Probability of coming from C_1 = 0.00062588290909301\n",
      "Probability of coming from C_2 = 0.999374117090907\n",
      "\n",
      "7.187936557459981\n",
      "Probability of coming from C_1 = 3.778258161853628e-05\n",
      "Probability of coming from C_2 = 0.9999622174183815\n",
      "\n",
      "6.019217797233448\n",
      "Probability of coming from C_1 = 0.03064834094363231\n",
      "Probability of coming from C_2 = 0.9693516590563677\n",
      "\n",
      "7.38388685353142\n",
      "Probability of coming from C_1 = 1.098786967556644e-05\n",
      "Probability of coming from C_2 = 0.9999890121303244\n",
      "\n",
      "3.31614537003014\n",
      "Probability of coming from C_1 = 0.999640738783262\n",
      "Probability of coming from C_2 = 0.0003592612167379719\n",
      "\n",
      "8.064721352700822\n",
      "Probability of coming from C_1 = 1.1849214643063575e-07\n",
      "Probability of coming from C_2 = 0.9999998815078536\n",
      "\n",
      "5.126483315605508\n",
      "Probability of coming from C_1 = 0.7214117070404193\n",
      "Probability of coming from C_2 = 0.2785882929595806\n",
      "\n",
      "3.2733204449546567\n",
      "Probability of coming from C_1 = 0.9996855961672574\n",
      "Probability of coming from C_2 = 0.00031440383274259075\n",
      "\n",
      "9.421823626972738\n",
      "Probability of coming from C_1 = 4.707327229206718e-12\n",
      "Probability of coming from C_2 = 0.9999999999952928\n",
      "\n"
     ]
    }
   ],
   "source": [
    "from scipy.stats import norm\n",
    "\n",
    "prob_c0_x = [] # P(C_0 | X_i)\n",
    "prob_c1_x = [] # P(C_1 | X_i)\n",
    "prob_x = [] # P(X_i)\n",
    "\n",
    "k = 2\n",
    "\n",
    "for p in data:\n",
    "    print(\"point = \", p)\n",
    "    pdf_i = []\n",
    "\n",
    "    for j in range(k):\n",
    "        # P(X_i | C_j)\n",
    "        pdf_i.append(norm.pdf(p, mean[j], var[j]))\n",
    "        print(\"probability of observing that point if it came from cluster \" + str(j) + \" = \", pdf_i[j])\n",
    "        # P(C_j) already computed\n",
    "        prob_c[j]\n",
    "\n",
    "    # P(X_i) = P(C_0)P(X_i | C_0) + P(C_1)P(X_i | C_1)\n",
    "    prob_x = prob_c[0] * pdf_i[0] + prob_c[1] * pdf_i[1]\n",
    "\n",
    "    # P(C_0 | X_i) = P(X_i | C_0)P(C_0) / P(X_i)\n",
    "    prob_c0_x_i =  (pdf_i[0] * prob_c[0]) / prob_x\n",
    "    prob_c0_x.append( prob_c0_x_i )\n",
    "    \n",
    "    # P(C_1 | X_i) = P(X_i | C_1)P(C_1) / P(X_i)\n",
    "    prob_c1_x_i = (pdf_i[1] * prob_c[1]) / prob_x\n",
    "    prob_c1_x.append( prob_c1_x_i )\n",
    "\n",
    "probs = zip(data, prob_c0_x, prob_c1_x)\n",
    "for p in probs:\n",
    "    print(p[0])\n",
    "    print(\"Probability of coming from C_1 = \" + str(p[1]))\n",
    "    print(\"Probability of coming from C_2 = \" + str(p[2]))\n",
    "    print()\n"
   ]
  },
  {
   "cell_type": "markdown",
   "metadata": {},
   "source": [
    "f) Having computed `P(C_j | X_i)`, update the estimates of `mean_j`, `var_j`, and `P(C_j)`. How different are these values from the original ones you got from K means? briefly comment."
   ]
  },
  {
   "cell_type": "code",
   "execution_count": 77,
   "metadata": {},
   "outputs": [
    {
     "name": "stdout",
     "output_type": "stream",
     "text": [
      "P(C_1) = 0.2752061902771862,  P(C_2) = 0.7247938097228137\n",
      "mean_1 = 3.8060905225973207,  mean_2 = 7.427817910264067\n",
      "var_1 = 0.7040089371899941,  var_2 = 1.1703127645157207\n"
     ]
    }
   ],
   "source": [
    "prob_c = [sum(prob_c0_x)/ len(prob_c0_x), sum(prob_c1_x)/ len(prob_c1_x) ]\n",
    "mean = [sum([x[0] * x[1] for x in zip(prob_c0_x, data)]) / sum(prob_c0_x), sum([x[0] * x[1] for x in zip(prob_c1_x, data)]) / sum(prob_c1_x) ]\n",
    "var = [sum([x[0] * ((x[1] - mean[0])**2) for x in zip(prob_c0_x, data)]) / sum(prob_c0_x) , sum([x[0] * ((x[1] - mean[1])**2) for x in zip(prob_c1_x, data)]) / sum(prob_c1_x)]\n",
    "\n",
    "print(\"P(C_1) = \" + str(prob_c[0]) + \",  P(C_2) = \" + str(prob_c[1]))\n",
    "print(\"mean_1 = \" + str(mean[0]) + \",  mean_2 = \" + str(mean[1]))\n",
    "print(\"var_1 = \" + str(var[0]) + \",  var_2 = \" + str(var[1]))"
   ]
  },
  {
   "cell_type": "markdown",
   "metadata": {},
   "source": []
  },
  {
   "cell_type": "markdown",
   "metadata": {},
   "source": [
    "g) Update `P(C_j | X_i)`. Comment on any differences or lack thereof you observe."
   ]
  },
  {
   "cell_type": "code",
   "execution_count": 78,
   "metadata": {},
   "outputs": [
    {
     "name": "stdout",
     "output_type": "stream",
     "text": [
      "7.794441699191401\n",
      "Probability of coming from S_0 = 7.116207070329158e-08\n",
      "Probability of coming from S_1 = 0.9999999288379293\n",
      "\n",
      "6.722984119137449\n",
      "Probability of coming from S_0 = 0.00014163963303285098\n",
      "Probability of coming from S_1 = 0.9998583603669672\n",
      "\n",
      "7.187936557459981\n",
      "Probability of coming from S_0 = 6.287882762629966e-06\n",
      "Probability of coming from S_1 = 0.9999937121172374\n",
      "\n",
      "6.019217797233448\n",
      "Probability of coming from S_0 = 0.00922176120872344\n",
      "Probability of coming from S_1 = 0.9907782387912766\n",
      "\n",
      "7.38388685353142\n",
      "Probability of coming from S_0 = 1.5566791445199546e-06\n",
      "Probability of coming from S_1 = 0.9999984433208555\n",
      "\n",
      "3.31614537003014\n",
      "Probability of coming from S_0 = 0.9958038454962705\n",
      "Probability of coming from S_1 = 0.004196154503729456\n",
      "\n",
      "8.064721352700822\n",
      "Probability of coming from S_0 = 8.29228652485188e-09\n",
      "Probability of coming from S_1 = 0.9999999917077135\n",
      "\n",
      "5.126483315605508\n",
      "Probability of coming from S_0 = 0.4290990458277937\n",
      "Probability of coming from S_1 = 0.5709009541722064\n",
      "\n",
      "3.2733204449546567\n",
      "Probability of coming from S_0 = 0.9961446431306711\n",
      "Probability of coming from S_1 = 0.003855356869328905\n",
      "\n",
      "9.421823626972738\n",
      "Probability of coming from S_0 = 4.108089716289083e-14\n",
      "Probability of coming from S_1 = 0.9999999999999589\n",
      "\n"
     ]
    }
   ],
   "source": [
    "prob_c0_x = []  # P(S_0 | X_i)\n",
    "prob_c1_x = []  # P(S_1 | X_i)\n",
    "\n",
    "for p in data:\n",
    "    pdf_i = []\n",
    "\n",
    "    for j in range(k):\n",
    "        # P(X_i | S_j)\n",
    "        pdf_i.append(norm.pdf(p, mean[j], var[j]))\n",
    "\n",
    "    # P(S_0 | X_i) = P(X_i | S_0)P(S_0) / P(X_i)\n",
    "    prob_c0_x_i = (pdf_i[0] * prob_c[0]) / (pdf_i[0] * prob_c[0] + pdf_i[1] * prob_c[1])\n",
    "    prob_c0_x.append(prob_c0_x_i)\n",
    "\n",
    "    # P(S_1 | X_i) = P(X_i | S_1)P(S_1) / P(X_i)\n",
    "    prob_c1_x_i = (pdf_i[1] * prob_c[1]) / (pdf_i[0] * prob_c[0] + pdf_i[1] * prob_c[1])\n",
    "    prob_c1_x.append(prob_c1_x_i)\n",
    "\n",
    "# Print updated posterior probabilities\n",
    "probs = zip(data, prob_c0_x, prob_c1_x)\n",
    "for p in probs:\n",
    "    print(p[0])\n",
    "    print(\"Probability of coming from S_0 = \" + str(p[1]))\n",
    "    print(\"Probability of coming from S_1 = \" + str(p[2]))\n",
    "    print()"
   ]
  },
  {
   "cell_type": "markdown",
   "metadata": {},
   "source": []
  },
  {
   "cell_type": "markdown",
   "metadata": {},
   "source": [
    "h) Use `P(C_j | X_i)` to create a hard assignment - label each point as belonging to a specific cluster (0 or 1)"
   ]
  },
  {
   "cell_type": "code",
   "execution_count": 79,
   "metadata": {},
   "outputs": [
    {
     "name": "stdout",
     "output_type": "stream",
     "text": [
      "Data point 0 belongs to Cluster 1\n",
      "Data point 1 belongs to Cluster 1\n",
      "Data point 2 belongs to Cluster 1\n",
      "Data point 3 belongs to Cluster 1\n",
      "Data point 4 belongs to Cluster 1\n",
      "Data point 5 belongs to Cluster 0\n",
      "Data point 6 belongs to Cluster 1\n",
      "Data point 7 belongs to Cluster 1\n",
      "Data point 8 belongs to Cluster 0\n",
      "Data point 9 belongs to Cluster 1\n"
     ]
    }
   ],
   "source": [
    "hard_assignments = []  # List to store hard cluster assignments\n",
    "\n",
    "for p_s0, p_s1 in zip(prob_c0_x, prob_c1_x):\n",
    "    if p_s0 > p_s1:\n",
    "        hard_assignments.append(0)  # Assign to cluster 0\n",
    "    else:\n",
    "        hard_assignments.append(1)  # Assign to cluster 1\n",
    "\n",
    "# Print the hard assignments\n",
    "for i, assignment in enumerate(hard_assignments):\n",
    "    print(f\"Data point {i} belongs to Cluster {assignment}\")"
   ]
  }
 ],
 "metadata": {
  "interpreter": {
   "hash": "76ca05dc3ea24b2e3b98cdb7774adfbb40773424bf5109b477fd793f623715af"
  },
  "kernelspec": {
   "display_name": "Python 3.9.9 64-bit ('env': venv)",
   "language": "python",
   "name": "python3"
  },
  "language_info": {
   "codemirror_mode": {
    "name": "ipython",
    "version": 3
   },
   "file_extension": ".py",
   "mimetype": "text/x-python",
   "name": "python",
   "nbconvert_exporter": "python",
   "pygments_lexer": "ipython3",
   "version": "3.11.3"
  },
  "orig_nbformat": 4
 },
 "nbformat": 4,
 "nbformat_minor": 2
}
